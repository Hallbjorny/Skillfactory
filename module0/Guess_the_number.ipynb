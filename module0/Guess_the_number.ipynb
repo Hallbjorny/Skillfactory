{
 "cells": [
  {
   "cell_type": "code",
   "execution_count": 73,
   "id": "b41163dd",
   "metadata": {},
   "outputs": [
    {
     "name": "stdout",
     "output_type": "stream",
     "text": [
      "Ваш алгоритм угадывает число в среднем за 5 попыток\n"
     ]
    },
    {
     "data": {
      "text/plain": [
       "5"
      ]
     },
     "execution_count": 73,
     "metadata": {},
     "output_type": "execute_result"
    }
   ],
   "source": [
    "import numpy as np\n",
    "\n",
    "\"\"\"Функция угадывает число, используя каждой попыткой середину\n",
    "   промежутка в котором находится загаданное. \n",
    "   Можно использовать для промежутков любого размера,\n",
    "   по умолчанию от 1 до 100\"\"\"\n",
    "def game_core_v3(number,range_size=list(range(1,101))):\n",
    "    count = 1\n",
    "    #Присваиваем пробному значению середину промежутка\n",
    "    predict = range_size[round(len(range_size)//2)-1]\n",
    "    \n",
    "    #Цикл для обнаружения правильного значения\n",
    "    while number != predict:\n",
    "        count+=1\n",
    "        #если промежуток из двух значений, ответ - второе число\n",
    "        if len(range_size)==2:\n",
    "            predict == range_size[1]\n",
    "            return count\n",
    "        #Проверка промежутка, в котором находится число\n",
    "        if number > predict: \n",
    "            range_size=range_size[range_size.index(predict)+1:]\n",
    "        elif number < predict: \n",
    "            range_size=range_size[:range_size.index(predict)]\n",
    "        #следующая попытка - середина нового промежутка    \n",
    "        predict = range_size[round(len(range_size)//2)]\n",
    "    return(count)\n",
    "\n",
    "\n",
    "#Функция по запуску игры для заданного промежутка, по умолчанию 1-100\n",
    "def score_game(game_core,start_num=1,end_num=101):\n",
    "    #Запускаем игру 1000 раз, чтобы узнать, среднее число попыток\n",
    "    count_ls = []\n",
    "    np.random.seed(1)  # фиксируем RANDOM SEED\n",
    "    random_array = np.random.randint(start_num,end_num, size=(1000))\n",
    "    for number in random_array:\n",
    "        count_ls.append(game_core(number,list(range(start_num,end_num))))\n",
    "    score = int(np.mean(count_ls))\n",
    "    print(f\"Ваш алгоритм угадывает число в среднем за {score} попыток\")\n",
    "    return(score)\n",
    "    \n",
    "\n",
    "score_game(game_core_v3,1,100)"
   ]
  },
  {
   "cell_type": "code",
   "execution_count": null,
   "id": "7f0f92f5",
   "metadata": {},
   "outputs": [],
   "source": []
  },
  {
   "cell_type": "code",
   "execution_count": null,
   "id": "58f4995a",
   "metadata": {},
   "outputs": [],
   "source": []
  }
 ],
 "metadata": {
  "kernelspec": {
   "display_name": "Python 3",
   "language": "python",
   "name": "python3"
  },
  "language_info": {
   "codemirror_mode": {
    "name": "ipython",
    "version": 3
   },
   "file_extension": ".py",
   "mimetype": "text/x-python",
   "name": "python",
   "nbconvert_exporter": "python",
   "pygments_lexer": "ipython3",
   "version": "3.8.8"
  }
 },
 "nbformat": 4,
 "nbformat_minor": 5
}
