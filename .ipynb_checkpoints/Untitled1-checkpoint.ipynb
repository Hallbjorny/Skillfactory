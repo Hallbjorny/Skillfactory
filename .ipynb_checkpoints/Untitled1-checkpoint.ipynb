{
 "cells": [
  {
   "cell_type": "code",
   "execution_count": 1,
   "id": "8dfa27d1",
   "metadata": {},
   "outputs": [
    {
     "name": "stdout",
     "output_type": "stream",
     "text": [
      "    0   1   2  \n",
      "0   -   -   -  \n",
      "1   -   -   -  \n",
      "2   -   -   -  \n",
      "playerX turn\n",
      "row:1\n",
      "line:2\n",
      "    0   1   2  \n",
      "0   -   -   -  \n",
      "1   -   -   -  \n",
      "2   -   x   -  \n",
      "playerO turn\n",
      "row:3\n",
      "line:1\n"
     ]
    },
    {
     "ename": "IndexError",
     "evalue": "list index out of range",
     "output_type": "error",
     "traceback": [
      "\u001b[1;31m---------------------------------------------------------------------------\u001b[0m",
      "\u001b[1;31mIndexError\u001b[0m                                Traceback (most recent call last)",
      "\u001b[1;32m<ipython-input-1-333d49249821>\u001b[0m in \u001b[0;36m<module>\u001b[1;34m\u001b[0m\n\u001b[0;32m     57\u001b[0m \u001b[1;33m\u001b[0m\u001b[0m\n\u001b[0;32m     58\u001b[0m \u001b[1;33m\u001b[0m\u001b[0m\n\u001b[1;32m---> 59\u001b[1;33m \u001b[0mplay_game\u001b[0m\u001b[1;33m(\u001b[0m\u001b[1;33m)\u001b[0m\u001b[1;33m\u001b[0m\u001b[1;33m\u001b[0m\u001b[0m\n\u001b[0m",
      "\u001b[1;32m<ipython-input-1-333d49249821>\u001b[0m in \u001b[0;36mplay_game\u001b[1;34m()\u001b[0m\n\u001b[0;32m     44\u001b[0m         \u001b[1;32melse\u001b[0m\u001b[1;33m:\u001b[0m\u001b[1;33m\u001b[0m\u001b[1;33m\u001b[0m\u001b[0m\n\u001b[0;32m     45\u001b[0m              \u001b[0mprint\u001b[0m\u001b[1;33m(\u001b[0m\u001b[1;34m\"playerO turn\"\u001b[0m\u001b[1;33m)\u001b[0m\u001b[1;33m\u001b[0m\u001b[1;33m\u001b[0m\u001b[0m\n\u001b[1;32m---> 46\u001b[1;33m              \u001b[0mgame_table\u001b[0m\u001b[1;33m=\u001b[0m\u001b[0mmake_move\u001b[0m\u001b[1;33m(\u001b[0m\u001b[0mgame_table\u001b[0m\u001b[1;33m)\u001b[0m\u001b[1;33m\u001b[0m\u001b[1;33m\u001b[0m\u001b[0m\n\u001b[0m\u001b[0;32m     47\u001b[0m         \u001b[0mind\u001b[0m\u001b[1;33m=\u001b[0m\u001b[1;32mnot\u001b[0m \u001b[0mind\u001b[0m\u001b[1;33m\u001b[0m\u001b[1;33m\u001b[0m\u001b[0m\n\u001b[0;32m     48\u001b[0m         \u001b[0mprint_play_table\u001b[0m\u001b[1;33m(\u001b[0m\u001b[0mgame_table\u001b[0m\u001b[1;33m)\u001b[0m\u001b[1;33m\u001b[0m\u001b[1;33m\u001b[0m\u001b[0m\n",
      "\u001b[1;32m<ipython-input-1-333d49249821>\u001b[0m in \u001b[0;36mmake_move\u001b[1;34m(gametable)\u001b[0m\n\u001b[0;32m      4\u001b[0m     \u001b[0mrow\u001b[0m \u001b[1;33m=\u001b[0m\u001b[0mint\u001b[0m\u001b[1;33m(\u001b[0m\u001b[0minput\u001b[0m\u001b[1;33m(\u001b[0m\u001b[1;34m\"row:\"\u001b[0m\u001b[1;33m)\u001b[0m\u001b[1;33m)\u001b[0m\u001b[1;33m\u001b[0m\u001b[1;33m\u001b[0m\u001b[0m\n\u001b[0;32m      5\u001b[0m     \u001b[0mline\u001b[0m \u001b[1;33m=\u001b[0m \u001b[0mint\u001b[0m\u001b[1;33m(\u001b[0m\u001b[0minput\u001b[0m\u001b[1;33m(\u001b[0m\u001b[1;34m\"line:\"\u001b[0m\u001b[1;33m)\u001b[0m\u001b[1;33m)\u001b[0m\u001b[1;33m\u001b[0m\u001b[1;33m\u001b[0m\u001b[0m\n\u001b[1;32m----> 6\u001b[1;33m     \u001b[1;32mif\u001b[0m \u001b[0mgametable\u001b[0m\u001b[1;33m[\u001b[0m\u001b[0mline\u001b[0m\u001b[1;33m]\u001b[0m\u001b[1;33m[\u001b[0m\u001b[0mrow\u001b[0m\u001b[1;33m]\u001b[0m\u001b[1;33m==\u001b[0m\u001b[1;34m\"-\"\u001b[0m\u001b[1;33m:\u001b[0m\u001b[1;33m\u001b[0m\u001b[1;33m\u001b[0m\u001b[0m\n\u001b[0m\u001b[0;32m      7\u001b[0m        \u001b[0mgametable\u001b[0m\u001b[1;33m[\u001b[0m\u001b[0mline\u001b[0m\u001b[1;33m]\u001b[0m\u001b[1;33m[\u001b[0m\u001b[0mrow\u001b[0m\u001b[1;33m]\u001b[0m\u001b[1;33m=\u001b[0m\u001b[1;34m\"x\"\u001b[0m \u001b[1;32mif\u001b[0m \u001b[0mind\u001b[0m \u001b[1;33m==\u001b[0m \u001b[1;32mTrue\u001b[0m \u001b[1;32melse\u001b[0m \u001b[1;34m\"o\"\u001b[0m\u001b[1;33m\u001b[0m\u001b[1;33m\u001b[0m\u001b[0m\n\u001b[0;32m      8\u001b[0m     \u001b[1;32melse\u001b[0m\u001b[1;33m:\u001b[0m\u001b[1;33m\u001b[0m\u001b[1;33m\u001b[0m\u001b[0m\n",
      "\u001b[1;31mIndexError\u001b[0m: list index out of range"
     ]
    }
   ],
   "source": [
    "ind = True\n",
    "def make_move(gametable):\n",
    "    global ind\n",
    "    row =int(input(\"row:\"))\n",
    "    line = int(input(\"line:\"))\n",
    "    if gametable[line][row]==\"-\":\n",
    "       gametable[line][row]=\"x\" if ind == True else \"o\"\n",
    "    else:\n",
    "        print(\"Cell already marked. Make another turn!\")\n",
    "        make_move(gametable)\n",
    "    return gametable\n",
    "    \n",
    "\n",
    "    \n",
    "def print_play_table(gametable):\n",
    "    print (\"{:<3} {:<3} {:<3} {:<3}\".format('','0','1','2'))\n",
    "    for k, v in gametable.items():\n",
    "        a, b, c = v\n",
    "        print (\"{:<3} {:<3} {:<3} {:<3}\".format(k, a, b, c))\n",
    "    \n",
    "    \n",
    "def check_winner (gametable):\n",
    "    for line in range(3):\n",
    "        if len(set(gametable[line]))==1 and (gametable[line][0]=='x'or gametable[line][0]=='o'):\n",
    "            return gametable[line][0]\n",
    "        if len(set([gametable[i][line] for i in range(3)]))==1 and (gametable[0][line]=='x'or gametable[0][line]=='o'):\n",
    "            return gametable[0][line]\n",
    "    if len(set([gametable[i][i] for i in range(3)]))==1 and (gametable[1][1]=='x' or gametable[1][1]=='o'):\n",
    "        return gametable[1][1]\n",
    "    if len(set([gametable[i][2-i] for i in range(3)]))==1 and (gametable[1][1]=='x' or gametable[1][1]=='o'):\n",
    "        return gametable[1][1]\n",
    "    pass\n",
    "\n",
    "\n",
    "def play_game():\n",
    "    game_table = {k:[\"-\",\"-\",\"-\"]for k in range(3)}\n",
    "    print_play_table(game_table)\n",
    "    global ind \n",
    "    \n",
    "    while not check_winner(game_table):\n",
    "        if ind:\n",
    "             print(\"playerX turn\")\n",
    "             game_table=make_move(game_table)\n",
    "        else: \n",
    "             print(\"playerO turn\")\n",
    "             game_table=make_move(game_table)\n",
    "        ind=not ind\n",
    "        print_play_table(game_table)\n",
    "        \n",
    "    #if check_winner(game_table):\n",
    "    print(f\"{check_winner(game_table)} player wins!\")\n",
    "    if input(\"Play Again? Y/N:\").upper()==\"Y\":\n",
    "        play_game()\n",
    "    else: \n",
    "        print (\"Thanks for playing\")\n",
    "        \n",
    "        \n",
    "\n",
    "play_game()"
   ]
  },
  {
   "cell_type": "code",
   "execution_count": null,
   "id": "7a1c8a55",
   "metadata": {},
   "outputs": [],
   "source": []
  }
 ],
 "metadata": {
  "kernelspec": {
   "display_name": "Python 3",
   "language": "python",
   "name": "python3"
  },
  "language_info": {
   "codemirror_mode": {
    "name": "ipython",
    "version": 3
   },
   "file_extension": ".py",
   "mimetype": "text/x-python",
   "name": "python",
   "nbconvert_exporter": "python",
   "pygments_lexer": "ipython3",
   "version": "3.8.8"
  }
 },
 "nbformat": 4,
 "nbformat_minor": 5
}
